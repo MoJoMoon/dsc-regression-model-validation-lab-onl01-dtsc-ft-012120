{
 "cells": [
  {
   "cell_type": "markdown",
   "metadata": {},
   "source": [
    "# Regression Model Validation - Lab\n",
    "\n",
    "## Introduction\n",
    "\n",
    "In this lab, you'll be able to validate your Boston Housing data model using train-test split.\n",
    "\n",
    "\n",
    "## Objectives\n",
    "\n",
    "You will be able to:\n",
    "\n",
    "- Compare training and testing errors to determine if model is over or underfitting\n"
   ]
  },
  {
   "cell_type": "markdown",
   "metadata": {},
   "source": [
    "## Let's use our Boston Housing Data again!\n",
    "\n",
    "This time, let's only include the variables that were previously selected using recursive feature elimination. We included the code to preprocess below."
   ]
  },
  {
   "cell_type": "code",
   "execution_count": 1,
   "metadata": {
    "ExecuteTime": {
     "end_time": "2020-03-06T09:45:23.760645Z",
     "start_time": "2020-03-06T09:45:21.623031Z"
    }
   },
   "outputs": [],
   "source": [
    "import pandas as pd\n",
    "import numpy as np\n",
    "import matplotlib.pyplot as plt\n",
    "%matplotlib inline\n",
    "from sklearn.datasets import load_boston\n",
    "\n",
    "boston = load_boston()\n",
    "\n",
    "boston_features = pd.DataFrame(boston.data, columns = boston.feature_names)\n",
    "b = boston_features['B']\n",
    "logdis = np.log(boston_features['DIS'])\n",
    "loglstat = np.log(boston_features['LSTAT'])\n",
    "\n",
    "# Min-Max scaling\n",
    "boston_features['B'] = (b-min(b))/(max(b)-min(b))\n",
    "boston_features['DIS'] = (logdis-min(logdis))/(max(logdis)-min(logdis))\n",
    "\n",
    "# Standardization\n",
    "boston_features['LSTAT'] = (loglstat-np.mean(loglstat))/np.sqrt(np.var(loglstat))"
   ]
  },
  {
   "cell_type": "code",
   "execution_count": 2,
   "metadata": {
    "ExecuteTime": {
     "end_time": "2020-03-06T09:45:23.769286Z",
     "start_time": "2020-03-06T09:45:23.762322Z"
    }
   },
   "outputs": [],
   "source": [
    "X = boston_features[['CHAS', 'RM', 'DIS', 'B', 'LSTAT']]\n",
    "y = pd.DataFrame(boston.target, columns = ['target'])"
   ]
  },
  {
   "cell_type": "markdown",
   "metadata": {},
   "source": [
    "### Perform a train-test split"
   ]
  },
  {
   "cell_type": "code",
   "execution_count": 3,
   "metadata": {
    "ExecuteTime": {
     "end_time": "2020-03-06T09:45:23.813406Z",
     "start_time": "2020-03-06T09:45:23.771293Z"
    }
   },
   "outputs": [],
   "source": [
    "# Split the data into training and test sets. Use the default split size\n",
    "from sklearn.model_selection import train_test_split\n",
    "X_train, X_test, y_train, y_test = train_test_split(X, y)"
   ]
  },
  {
   "cell_type": "code",
   "execution_count": 4,
   "metadata": {
    "ExecuteTime": {
     "end_time": "2020-03-06T09:45:23.822155Z",
     "start_time": "2020-03-06T09:45:23.815164Z"
    }
   },
   "outputs": [
    {
     "name": "stdout",
     "output_type": "stream",
     "text": [
      "379 127 379 127\n"
     ]
    }
   ],
   "source": [
    "print(len(X_train), len(X_test), len(y_train), len(y_test))"
   ]
  },
  {
   "cell_type": "markdown",
   "metadata": {},
   "source": [
    "### Apply your model to the train set"
   ]
  },
  {
   "cell_type": "code",
   "execution_count": 5,
   "metadata": {
    "ExecuteTime": {
     "end_time": "2020-03-06T09:45:23.895947Z",
     "start_time": "2020-03-06T09:45:23.824139Z"
    }
   },
   "outputs": [
    {
     "data": {
      "text/plain": [
       "LinearRegression(copy_X=True, fit_intercept=True, n_jobs=None, normalize=False)"
      ]
     },
     "execution_count": 5,
     "metadata": {},
     "output_type": "execute_result"
    }
   ],
   "source": [
    "# Importing and initialize the linear regression model class\n",
    "from sklearn.linear_model import LinearRegression\n",
    "linreg = LinearRegression()\n",
    "linreg.fit(X_train, y_train)"
   ]
  },
  {
   "cell_type": "markdown",
   "metadata": {},
   "source": [
    "### Calculate predictions on training and test sets"
   ]
  },
  {
   "cell_type": "code",
   "execution_count": 6,
   "metadata": {
    "ExecuteTime": {
     "end_time": "2020-03-06T09:45:23.904923Z",
     "start_time": "2020-03-06T09:45:23.897942Z"
    }
   },
   "outputs": [],
   "source": [
    "# Calculate predictions on training and test sets\n",
    "y_hat_train = linreg.predict(X_train)\n",
    "y_hat_test = linreg.predict(X_test)"
   ]
  },
  {
   "cell_type": "markdown",
   "metadata": {},
   "source": [
    "### Calculate training and test residuals"
   ]
  },
  {
   "cell_type": "code",
   "execution_count": 7,
   "metadata": {
    "ExecuteTime": {
     "end_time": "2020-03-06T09:45:23.922881Z",
     "start_time": "2020-03-06T09:45:23.907916Z"
    }
   },
   "outputs": [],
   "source": [
    "train_residuals = y_hat_train - y_train\n",
    "test_residuals = y_hat_test - y_test"
   ]
  },
  {
   "cell_type": "code",
   "execution_count": 8,
   "metadata": {
    "ExecuteTime": {
     "end_time": "2020-03-06T09:45:23.949804Z",
     "start_time": "2020-03-06T09:45:23.925868Z"
    }
   },
   "outputs": [
    {
     "name": "stdout",
     "output_type": "stream",
     "text": [
      "        target\n",
      "90    2.582000\n",
      "335   1.997502\n",
      "99   -1.229952\n",
      "371 -23.967384\n",
      "188   1.438915\n",
      "..         ...\n",
      "238   2.994158\n",
      "57    0.486512\n",
      "106  -3.061407\n",
      "284  -5.842204\n",
      "35    3.475456\n",
      "\n",
      "[379 rows x 1 columns]\n",
      "        target\n",
      "194   1.799075\n",
      "351   2.837993\n",
      "331   0.029294\n",
      "293  -0.967244\n",
      "420   3.502833\n",
      "..         ...\n",
      "215  -2.018895\n",
      "492   0.423571\n",
      "133  -0.176889\n",
      "107  -0.059426\n",
      "7   -12.462130\n",
      "\n",
      "[127 rows x 1 columns]\n"
     ]
    }
   ],
   "source": [
    "print(train_residuals)\n",
    "print(test_residuals)"
   ]
  },
  {
   "cell_type": "markdown",
   "metadata": {},
   "source": [
    "### Calculate the Mean Squared Error (MSE)\n",
    "\n",
    "A good way to compare overall performance is to compare the mean squarred error for the predicted values on the training and test sets."
   ]
  },
  {
   "cell_type": "code",
   "execution_count": 9,
   "metadata": {
    "ExecuteTime": {
     "end_time": "2020-03-06T09:45:23.970748Z",
     "start_time": "2020-03-06T09:45:23.951798Z"
    }
   },
   "outputs": [
    {
     "name": "stdout",
     "output_type": "stream",
     "text": [
      "Train Mean Squared Error: 21.300087124849355\n",
      "Test Mean Squared Error: 23.103193319334896\n"
     ]
    }
   ],
   "source": [
    "from sklearn.metrics import mean_squared_error\n",
    "\n",
    "train_mse = mean_squared_error(y_train, y_hat_train)\n",
    "test_mse = mean_squared_error(y_test, y_hat_test)\n",
    "print('Train Mean Squared Error:', train_mse)\n",
    "print('Test Mean Squared Error:', test_mse)"
   ]
  },
  {
   "cell_type": "markdown",
   "metadata": {},
   "source": [
    "If your test error is substantially worse than the train error, this is a sign that the model doesn't generalize well to future cases."
   ]
  },
  {
   "cell_type": "markdown",
   "metadata": {},
   "source": [
    "One simple way to demonstrate overfitting and underfitting is to alter the size of our train-test split. By default, scikit-learn allocates 25% of the data to the test set and 75% to the training set. Fitting a model on only 10% of the data is apt to lead to underfitting, while training a model on 99% of the data is apt to lead to overfitting."
   ]
  },
  {
   "cell_type": "markdown",
   "metadata": {},
   "source": [
    "# Evaluate the effect of train-test split size\n",
    "\n",
    "Iterate over a range of train-test split sizes from .5 to .95. For each of these, generate a new train/test split sample. Fit a model to the training sample and calculate both the training error and the test error (mse) for each of these splits. Plot these two curves (train error vs. training size and test error vs. training size) on a graph."
   ]
  },
  {
   "cell_type": "code",
   "execution_count": 10,
   "metadata": {
    "ExecuteTime": {
     "end_time": "2020-03-06T09:45:24.342752Z",
     "start_time": "2020-03-06T09:45:23.973741Z"
    }
   },
   "outputs": [
    {
     "data": {
      "text/plain": [
       "<matplotlib.legend.Legend at 0x1d833fb56c8>"
      ]
     },
     "execution_count": 10,
     "metadata": {},
     "output_type": "execute_result"
    },
    {
     "data": {
      "image/png": "[encoded data removed]",
      "text/plain": [
       "<Figure size 432x288 with 1 Axes>"
      ]
     },
     "metadata": {
      "needs_background": "light"
     },
     "output_type": "display_data"
    }
   ],
   "source": [
    "import random\n",
    "random.seed(11)\n",
    "\n",
    "train_err = []\n",
    "test_err = []\n",
    "t_sizes = list(range(5,100,5))\n",
    "for t_size in t_sizes:\n",
    "    X_train, X_test, y_train, y_test = train_test_split(X, y, test_size=t_size/100)\n",
    "    linreg.fit(X_train, y_train)\n",
    "    y_hat_train = linreg.predict(X_train)\n",
    "    y_hat_test = linreg.predict(X_test)\n",
    "    train_err.append(mean_squared_error(y_train, y_hat_train))\n",
    "    test_err.append(mean_squared_error(y_test, y_hat_test))\n",
    "plt.scatter(t_sizes, train_err, label='Training Error')\n",
    "plt.scatter(t_sizes, test_err, label='Testing Error')\n",
    "plt.legend()"
   ]
  },
  {
   "cell_type": "markdown",
   "metadata": {},
   "source": [
    "# Evaluate the effect of train-test split size: Extension\n",
    "\n",
    "Repeat the previous example, but for each train-test split size, generate 100 iterations of models/errors and save the average train/test error. This will help account for any particularly good/bad models that might have resulted from poor/good splits in the data. "
   ]
  },
  {
   "cell_type": "code",
   "execution_count": 22,
   "metadata": {
    "ExecuteTime": {
     "end_time": "2020-03-06T09:57:48.484473Z",
     "start_time": "2020-03-06T09:57:36.329949Z"
    }
   },
   "outputs": [
    {
     "name": "stdout",
     "output_type": "stream",
     "text": [
      "-------------0.95% Train 0.05% Test Ratio----------------\n",
      "Train Mean_Squared_Error: 21.36428330590611\n",
      "Test Mean_Squared_Error: 28.375134382001857 \n",
      "\n",
      "-------------0.9% Train 0.1% Test Ratio----------------\n",
      "Train Mean_Squared_Error: 22.36270747814086\n",
      "Test Mean_Squared_Error: 15.999291244787088 \n",
      "\n",
      "-------------0.85% Train 0.15% Test Ratio----------------\n",
      "Train Mean_Squared_Error: 21.042208980084826\n",
      "Test Mean_Squared_Error: 25.542720891964553 \n",
      "\n",
      "-------------0.8% Train 0.2% Test Ratio----------------\n",
      "Train Mean_Squared_Error: 22.33482258309848\n",
      "Test Mean_Squared_Error: 19.770061342623773 \n",
      "\n",
      "-------------0.75% Train 0.25% Test Ratio----------------\n",
      "Train Mean_Squared_Error: 21.795084810342523\n",
      "Test Mean_Squared_Error: 22.850789593775367 \n",
      "\n",
      "-------------0.7% Train 0.3% Test Ratio----------------\n",
      "Train Mean_Squared_Error: 21.855576761365104\n",
      "Test Mean_Squared_Error: 22.38470315037116 \n",
      "\n",
      "-------------0.65% Train 0.35% Test Ratio----------------\n",
      "Train Mean_Squared_Error: 24.303019540053235\n",
      "Test Mean_Squared_Error: 17.252533786873837 \n",
      "\n",
      "-------------0.6% Train 0.4% Test Ratio----------------\n",
      "Train Mean_Squared_Error: 23.52135002391672\n",
      "Test Mean_Squared_Error: 19.104089284864116 \n",
      "\n",
      "-------------0.55% Train 0.45% Test Ratio----------------\n",
      "Train Mean_Squared_Error: 24.008630982765425\n",
      "Test Mean_Squared_Error: 19.318514882864942 \n",
      "\n",
      "-------------0.5% Train 0.5% Test Ratio----------------\n",
      "Train Mean_Squared_Error: 21.47747302156448\n",
      "Test Mean_Squared_Error: 22.477835909285556 \n",
      "\n",
      "-------------0.45% Train 0.55% Test Ratio----------------\n",
      "Train Mean_Squared_Error: 25.400837347747725\n",
      "Test Mean_Squared_Error: 19.76206600121904 \n",
      "\n",
      "-------------0.4% Train 0.6% Test Ratio----------------\n",
      "Train Mean_Squared_Error: 17.343669016077495\n",
      "Test Mean_Squared_Error: 26.31680230300106 \n",
      "\n",
      "-------------0.35% Train 0.65% Test Ratio----------------\n",
      "Train Mean_Squared_Error: 19.68633396365672\n",
      "Test Mean_Squared_Error: 24.03280904827218 \n",
      "\n",
      "-------------0.3% Train 0.7% Test Ratio----------------\n",
      "Train Mean_Squared_Error: 17.868274628894333\n",
      "Test Mean_Squared_Error: 24.725117693854504 \n",
      "\n",
      "-------------0.25% Train 0.75% Test Ratio----------------\n",
      "Train Mean_Squared_Error: 16.52710619567615\n",
      "Test Mean_Squared_Error: 25.892394243376234 \n",
      "\n",
      "-------------0.2% Train 0.8% Test Ratio----------------\n",
      "Train Mean_Squared_Error: 20.52617725481465\n",
      "Test Mean_Squared_Error: 23.120963885334703 \n",
      "\n",
      "-------------0.15% Train 0.85% Test Ratio----------------\n",
      "Train Mean_Squared_Error: 18.22570098328284\n",
      "Test Mean_Squared_Error: 22.755673534466347 \n",
      "\n",
      "-------------0.1% Train 0.9% Test Ratio----------------\n",
      "Train Mean_Squared_Error: 11.009276864600027\n",
      "Test Mean_Squared_Error: 33.35327727862794 \n",
      "\n",
      "-------------0.05% Train 0.95% Test Ratio----------------\n",
      "Train Mean_Squared_Error: 24.651407452634686\n",
      "Test Mean_Squared_Error: 33.68895396027092 \n",
      "\n"
     ]
    },
    {
     "data": {
      "text/plain": [
       "<matplotlib.legend.Legend at 0x1d8345985c8>"
      ]
     },
     "execution_count": 22,
     "metadata": {},
     "output_type": "execute_result"
    },
    {
     "data": {
      "image/png": "[encoded data removed]",
      "text/plain": [
       "<Figure size 432x288 with 1 Axes>"
      ]
     },
     "metadata": {
      "needs_background": "light"
     },
     "output_type": "display_data"
    }
   ],
   "source": [
    "random.seed(8)\n",
    "\n",
    "train_err = []\n",
    "test_err = []\n",
    "t_sizes = list(range(5,100,5))\n",
    "for t_size in t_sizes:\n",
    "    temp_train_err = []\n",
    "    temp_test_err = []\n",
    "    for i in range(100):\n",
    "        X_train, X_test, y_train, y_test = train_test_split(X, y, test_size=t_size/100)\n",
    "        linreg.fit(X_train, y_train)\n",
    "        y_hat_train = linreg.predict(X_train)\n",
    "        y_hat_test = linreg.predict(X_test)\n",
    "        temp_train_err.append(mean_squared_error(y_train, y_hat_train))\n",
    "        temp_test_err.append(mean_squared_error(y_test, y_hat_test))\n",
    "    train_err.append(np.mean(temp_train_err))\n",
    "    test_err.append(np.mean(temp_test_err))\n",
    "    print('-------------{}% Train {}% Test Ratio----------------'.format(round((1 - abs(t_size/100)),2),round((t_size/100),2)))\n",
    "    print('Train Mean_Squared_Error:',mean_squared_error(y_train, y_hat_train))\n",
    "    print('Test Mean_Squared_Error:',mean_squared_error(y_test, y_hat_test),'\\n')\n",
    "plt.scatter(t_sizes, train_err, label='Training Error')\n",
    "plt.scatter(t_sizes, test_err, label='Testing Error')\n",
    "plt.legend()"
   ]
  },
  {
   "cell_type": "code",
   "execution_count": 23,
   "metadata": {
    "ExecuteTime": {
     "end_time": "2020-03-06T09:59:15.286436Z",
     "start_time": "2020-03-06T09:59:03.230827Z"
    }
   },
   "outputs": [
    {
     "name": "stdout",
     "output_type": "stream",
     "text": [
      "-------------0.95% Train 0.05% Test Ratio----------------\n",
      "Train Mean_Squared_Error: 21.669810735515735\n",
      "Test Mean_Squared_Error: 22.744103816874077 \n",
      "\n",
      "-------------0.9% Train 0.1% Test Ratio----------------\n",
      "Train Mean_Squared_Error: 21.580310892753737\n",
      "Test Mean_Squared_Error: 23.305977974477592 \n",
      "\n",
      "-------------0.85% Train 0.15% Test Ratio----------------\n",
      "Train Mean_Squared_Error: 21.658054058280726\n",
      "Test Mean_Squared_Error: 22.51689472499991 \n",
      "\n",
      "-------------0.8% Train 0.2% Test Ratio----------------\n",
      "Train Mean_Squared_Error: 21.51181800692296\n",
      "Test Mean_Squared_Error: 23.019259343303215 \n",
      "\n",
      "-------------0.75% Train 0.25% Test Ratio----------------\n",
      "Train Mean_Squared_Error: 21.577384941669308\n",
      "Test Mean_Squared_Error: 22.61977439547322 \n",
      "\n",
      "-------------0.7% Train 0.3% Test Ratio----------------\n",
      "Train Mean_Squared_Error: 21.485702934558326\n",
      "Test Mean_Squared_Error: 22.7704104206931 \n",
      "\n",
      "-------------0.65% Train 0.35% Test Ratio----------------\n",
      "Train Mean_Squared_Error: 21.47790408400127\n",
      "Test Mean_Squared_Error: 22.800947662381972 \n",
      "\n",
      "-------------0.6% Train 0.4% Test Ratio----------------\n",
      "Train Mean_Squared_Error: 21.306136361118565\n",
      "Test Mean_Squared_Error: 23.1037618400598 \n",
      "\n",
      "-------------0.55% Train 0.45% Test Ratio----------------\n",
      "Train Mean_Squared_Error: 21.450840707022437\n",
      "Test Mean_Squared_Error: 22.8724244099588 \n",
      "\n",
      "-------------0.5% Train 0.5% Test Ratio----------------\n",
      "Train Mean_Squared_Error: 21.226699033637452\n",
      "Test Mean_Squared_Error: 23.17706821535145 \n",
      "\n",
      "-------------0.45% Train 0.55% Test Ratio----------------\n",
      "Train Mean_Squared_Error: 21.481514711219365\n",
      "Test Mean_Squared_Error: 23.002037897428263 \n",
      "\n",
      "-------------0.4% Train 0.6% Test Ratio----------------\n",
      "Train Mean_Squared_Error: 20.74886971377842\n",
      "Test Mean_Squared_Error: 23.622345896368685 \n",
      "\n",
      "-------------0.35% Train 0.65% Test Ratio----------------\n",
      "Train Mean_Squared_Error: 21.073885126596082\n",
      "Test Mean_Squared_Error: 23.60536724791068 \n",
      "\n",
      "-------------0.3% Train 0.7% Test Ratio----------------\n",
      "Train Mean_Squared_Error: 20.42563507568104\n",
      "Test Mean_Squared_Error: 23.838478105442263 \n",
      "\n",
      "-------------0.25% Train 0.75% Test Ratio----------------\n",
      "Train Mean_Squared_Error: 20.32573757624298\n",
      "Test Mean_Squared_Error: 24.199595041177997 \n",
      "\n",
      "-------------0.2% Train 0.8% Test Ratio----------------\n",
      "Train Mean_Squared_Error: 19.689767078755416\n",
      "Test Mean_Squared_Error: 24.85405409147459 \n",
      "\n",
      "-------------0.15% Train 0.85% Test Ratio----------------\n",
      "Train Mean_Squared_Error: 19.060652166904536\n",
      "Test Mean_Squared_Error: 25.228449999334575 \n",
      "\n",
      "-------------0.1% Train 0.9% Test Ratio----------------\n",
      "Train Mean_Squared_Error: 18.296166617298294\n",
      "Test Mean_Squared_Error: 27.728083295553716 \n",
      "\n",
      "-------------0.05% Train 0.95% Test Ratio----------------\n",
      "Train Mean_Squared_Error: 14.096482398478054\n",
      "Test Mean_Squared_Error: 57.35028616524964 \n",
      "\n"
     ]
    },
    {
     "data": {
      "text/plain": [
       "<matplotlib.legend.Legend at 0x1d83460acc8>"
      ]
     },
     "execution_count": 23,
     "metadata": {},
     "output_type": "execute_result"
    },
    {
     "data": {
      "image/png": "[encoded data removed]",
      "text/plain": [
       "<Figure size 432x288 with 1 Axes>"
      ]
     },
     "metadata": {
      "needs_background": "light"
     },
     "output_type": "display_data"
    }
   ],
   "source": [
    "random.seed(8)\n",
    "\n",
    "train_err = []\n",
    "test_err = []\n",
    "t_sizes = list(range(5,100,5))\n",
    "for t_size in t_sizes:\n",
    "    temp_train_err = []\n",
    "    temp_test_err = []\n",
    "    for i in range(100):\n",
    "        X_train, X_test, y_train, y_test = train_test_split(X, y, test_size=t_size/100)\n",
    "        linreg.fit(X_train, y_train)\n",
    "        y_hat_train = linreg.predict(X_train)\n",
    "        y_hat_test = linreg.predict(X_test)\n",
    "        temp_train_err.append(mean_squared_error(y_train, y_hat_train))\n",
    "        temp_test_err.append(mean_squared_error(y_test, y_hat_test))\n",
    "    train_err.append(np.mean(temp_train_err))\n",
    "    test_err.append(np.mean(temp_test_err))\n",
    "    print('-------------{}% Train {}% Test Ratio----------------'.format(round((1 - abs(t_size/100)),2),round((t_size/100),2)))\n",
    "    print('Train Mean_Squared_Error:',np.mean(temp_train_err))\n",
    "    print('Test Mean_Squared_Error:',np.mean(temp_test_err),'\\n')\n",
    "plt.scatter(t_sizes, train_err, label='Training Error')\n",
    "plt.scatter(t_sizes, test_err, label='Testing Error')\n",
    "plt.legend()"
   ]
  },
  {
   "cell_type": "markdown",
   "metadata": {},
   "source": [
    "What's happening here? Evaluate your result!"
   ]
  },
  {
   "cell_type": "code",
   "execution_count": 24,
   "metadata": {
    "ExecuteTime": {
     "end_time": "2020-03-06T10:00:21.405730Z",
     "start_time": "2020-03-06T10:00:21.401741Z"
    }
   },
   "outputs": [],
   "source": [
    "# Here our for loop is creating 20 linear models, each with a different ratio\n",
    "# of train/test data, runung each of these models 100 times,\n",
    "# and we are plotting the average error of these model iterations to compare the\n",
    "# performance of the various ratios. \n",
    "\n",
    "# The first ratio is 95% train, 5% test. From here to about 40% train, 60% test\n",
    "# the errors are about the same with the more skewed ratios performing better.\n",
    "# After this we experience overfitting where the training error is lower and \n",
    "# the testing error continues to increase."
   ]
  },
  {
   "cell_type": "markdown",
   "metadata": {},
   "source": [
    "##  Summary "
   ]
  },
  {
   "cell_type": "markdown",
   "metadata": {},
   "source": [
    "Congratulations! You now practiced your knowledge of MSE and used your train-test split skills to validate your model."
   ]
  }
 ],
 "metadata": {
  "kernelspec": {
   "display_name": "Python 3",
   "language": "python",
   "name": "python3"
  },
  "language_info": {
   "codemirror_mode": {
    "name": "ipython",
    "version": 3
   },
   "file_extension": ".py",
   "mimetype": "text/x-python",
   "name": "python",
   "nbconvert_exporter": "python",
   "pygments_lexer": "ipython3",
   "version": "3.7.4"
  },
  "toc": {
   "base_numbering": 1,
   "nav_menu": {},
   "number_sections": true,
   "sideBar": true,
   "skip_h1_title": false,
   "title_cell": "Table of Contents",
   "title_sidebar": "Contents",
   "toc_cell": false,
   "toc_position": {},
   "toc_section_display": true,
   "toc_window_display": false
  }
 },
 "nbformat": 4,
 "nbformat_minor": 2
}
